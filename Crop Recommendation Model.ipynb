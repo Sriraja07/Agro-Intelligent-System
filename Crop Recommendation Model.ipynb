{
 "cells": [
  {
   "cell_type": "markdown",
   "id": "52934694",
   "metadata": {},
   "source": [
    "#  Importing Libraries"
   ]
  },
  {
   "cell_type": "code",
   "execution_count": 1,
   "id": "2b9aa96d",
   "metadata": {},
   "outputs": [],
   "source": [
    "import pandas as pd\n",
    "import numpy as np\n",
    "import matplotlib.pyplot as plt\n",
    "import seaborn as sns\n",
    "from sklearn.metrics import classification_report\n",
    "from sklearn import metrics\n",
    "from sklearn import tree\n",
    "import warnings\n",
    "warnings.filterwarnings('ignore')"
   ]
  },
  {
   "cell_type": "markdown",
   "id": "9fbab1c6",
   "metadata": {},
   "source": [
    "\n",
    "# Analysing Data"
   ]
  },
  {
   "cell_type": "code",
   "execution_count": 2,
   "id": "210a3c91",
   "metadata": {},
   "outputs": [],
   "source": [
    "df=pd.read_csv('Preprocessed Dataset/crop_recommendation.csv')"
   ]
  },
  {
   "cell_type": "code",
   "execution_count": 3,
   "id": "da7c24d9",
   "metadata": {
    "scrolled": true
   },
   "outputs": [
    {
     "data": {
      "text/html": [
       "<div>\n",
       "<style scoped>\n",
       "    .dataframe tbody tr th:only-of-type {\n",
       "        vertical-align: middle;\n",
       "    }\n",
       "\n",
       "    .dataframe tbody tr th {\n",
       "        vertical-align: top;\n",
       "    }\n",
       "\n",
       "    .dataframe thead th {\n",
       "        text-align: right;\n",
       "    }\n",
       "</style>\n",
       "<table border=\"1\" class=\"dataframe\">\n",
       "  <thead>\n",
       "    <tr style=\"text-align: right;\">\n",
       "      <th></th>\n",
       "      <th>N</th>\n",
       "      <th>P</th>\n",
       "      <th>K</th>\n",
       "      <th>temperature</th>\n",
       "      <th>humidity</th>\n",
       "      <th>ph</th>\n",
       "      <th>rainfall</th>\n",
       "      <th>label</th>\n",
       "    </tr>\n",
       "  </thead>\n",
       "  <tbody>\n",
       "    <tr>\n",
       "      <th>0</th>\n",
       "      <td>84</td>\n",
       "      <td>51</td>\n",
       "      <td>37</td>\n",
       "      <td>20.879744</td>\n",
       "      <td>82.002744</td>\n",
       "      <td>6.502985</td>\n",
       "      <td>202.935536</td>\n",
       "      <td>rice</td>\n",
       "    </tr>\n",
       "    <tr>\n",
       "      <th>1</th>\n",
       "      <td>97</td>\n",
       "      <td>42</td>\n",
       "      <td>40</td>\n",
       "      <td>21.770462</td>\n",
       "      <td>80.319644</td>\n",
       "      <td>7.038096</td>\n",
       "      <td>226.655537</td>\n",
       "      <td>rice</td>\n",
       "    </tr>\n",
       "    <tr>\n",
       "      <th>2</th>\n",
       "      <td>82</td>\n",
       "      <td>36</td>\n",
       "      <td>35</td>\n",
       "      <td>23.004459</td>\n",
       "      <td>82.320763</td>\n",
       "      <td>7.840207</td>\n",
       "      <td>263.964248</td>\n",
       "      <td>rice</td>\n",
       "    </tr>\n",
       "    <tr>\n",
       "      <th>3</th>\n",
       "      <td>64</td>\n",
       "      <td>56</td>\n",
       "      <td>35</td>\n",
       "      <td>26.491096</td>\n",
       "      <td>80.158363</td>\n",
       "      <td>6.980401</td>\n",
       "      <td>242.864034</td>\n",
       "      <td>rice</td>\n",
       "    </tr>\n",
       "    <tr>\n",
       "      <th>4</th>\n",
       "      <td>62</td>\n",
       "      <td>38</td>\n",
       "      <td>42</td>\n",
       "      <td>20.130175</td>\n",
       "      <td>81.604873</td>\n",
       "      <td>7.628473</td>\n",
       "      <td>262.717340</td>\n",
       "      <td>rice</td>\n",
       "    </tr>\n",
       "  </tbody>\n",
       "</table>\n",
       "</div>"
      ],
      "text/plain": [
       "    N   P   K  temperature   humidity        ph    rainfall label\n",
       "0  84  51  37    20.879744  82.002744  6.502985  202.935536  rice\n",
       "1  97  42  40    21.770462  80.319644  7.038096  226.655537  rice\n",
       "2  82  36  35    23.004459  82.320763  7.840207  263.964248  rice\n",
       "3  64  56  35    26.491096  80.158363  6.980401  242.864034  rice\n",
       "4  62  38  42    20.130175  81.604873  7.628473  262.717340  rice"
      ]
     },
     "execution_count": 3,
     "metadata": {},
     "output_type": "execute_result"
    }
   ],
   "source": [
    "df.head()"
   ]
  },
  {
   "cell_type": "code",
   "execution_count": 4,
   "id": "ff141335",
   "metadata": {
    "scrolled": true
   },
   "outputs": [
    {
     "data": {
      "text/html": [
       "<div>\n",
       "<style scoped>\n",
       "    .dataframe tbody tr th:only-of-type {\n",
       "        vertical-align: middle;\n",
       "    }\n",
       "\n",
       "    .dataframe tbody tr th {\n",
       "        vertical-align: top;\n",
       "    }\n",
       "\n",
       "    .dataframe thead th {\n",
       "        text-align: right;\n",
       "    }\n",
       "</style>\n",
       "<table border=\"1\" class=\"dataframe\">\n",
       "  <thead>\n",
       "    <tr style=\"text-align: right;\">\n",
       "      <th></th>\n",
       "      <th>N</th>\n",
       "      <th>P</th>\n",
       "      <th>K</th>\n",
       "      <th>temperature</th>\n",
       "      <th>humidity</th>\n",
       "      <th>ph</th>\n",
       "      <th>rainfall</th>\n",
       "      <th>label</th>\n",
       "    </tr>\n",
       "  </thead>\n",
       "  <tbody>\n",
       "    <tr>\n",
       "      <th>2195</th>\n",
       "      <td>104</td>\n",
       "      <td>36</td>\n",
       "      <td>34</td>\n",
       "      <td>26.774637</td>\n",
       "      <td>66.413269</td>\n",
       "      <td>6.780064</td>\n",
       "      <td>177.774507</td>\n",
       "      <td>coffee</td>\n",
       "    </tr>\n",
       "    <tr>\n",
       "      <th>2196</th>\n",
       "      <td>91</td>\n",
       "      <td>38</td>\n",
       "      <td>31</td>\n",
       "      <td>27.417112</td>\n",
       "      <td>56.636362</td>\n",
       "      <td>6.086922</td>\n",
       "      <td>127.924610</td>\n",
       "      <td>coffee</td>\n",
       "    </tr>\n",
       "    <tr>\n",
       "      <th>2197</th>\n",
       "      <td>80</td>\n",
       "      <td>24</td>\n",
       "      <td>34</td>\n",
       "      <td>24.131797</td>\n",
       "      <td>67.225123</td>\n",
       "      <td>6.362608</td>\n",
       "      <td>173.322839</td>\n",
       "      <td>coffee</td>\n",
       "    </tr>\n",
       "    <tr>\n",
       "      <th>2198</th>\n",
       "      <td>114</td>\n",
       "      <td>34</td>\n",
       "      <td>34</td>\n",
       "      <td>26.272418</td>\n",
       "      <td>52.127394</td>\n",
       "      <td>6.758793</td>\n",
       "      <td>127.175293</td>\n",
       "      <td>coffee</td>\n",
       "    </tr>\n",
       "    <tr>\n",
       "      <th>2199</th>\n",
       "      <td>94</td>\n",
       "      <td>20</td>\n",
       "      <td>28</td>\n",
       "      <td>23.603016</td>\n",
       "      <td>60.396475</td>\n",
       "      <td>6.779833</td>\n",
       "      <td>140.937041</td>\n",
       "      <td>coffee</td>\n",
       "    </tr>\n",
       "  </tbody>\n",
       "</table>\n",
       "</div>"
      ],
      "text/plain": [
       "        N   P   K  temperature   humidity        ph    rainfall   label\n",
       "2195  104  36  34    26.774637  66.413269  6.780064  177.774507  coffee\n",
       "2196   91  38  31    27.417112  56.636362  6.086922  127.924610  coffee\n",
       "2197   80  24  34    24.131797  67.225123  6.362608  173.322839  coffee\n",
       "2198  114  34  34    26.272418  52.127394  6.758793  127.175293  coffee\n",
       "2199   94  20  28    23.603016  60.396475  6.779833  140.937041  coffee"
      ]
     },
     "execution_count": 4,
     "metadata": {},
     "output_type": "execute_result"
    }
   ],
   "source": [
    "df.tail()"
   ]
  },
  {
   "cell_type": "code",
   "execution_count": 5,
   "id": "deb8a828",
   "metadata": {},
   "outputs": [
    {
     "data": {
      "text/plain": [
       "17600"
      ]
     },
     "execution_count": 5,
     "metadata": {},
     "output_type": "execute_result"
    }
   ],
   "source": [
    "df.size"
   ]
  },
  {
   "cell_type": "code",
   "execution_count": 6,
   "id": "ae41da08",
   "metadata": {},
   "outputs": [
    {
     "data": {
      "text/plain": [
       "(2200, 8)"
      ]
     },
     "execution_count": 6,
     "metadata": {},
     "output_type": "execute_result"
    }
   ],
   "source": [
    "df.shape"
   ]
  },
  {
   "cell_type": "code",
   "execution_count": 7,
   "id": "d5cad4bd",
   "metadata": {},
   "outputs": [
    {
     "data": {
      "text/html": [
       "<div>\n",
       "<style scoped>\n",
       "    .dataframe tbody tr th:only-of-type {\n",
       "        vertical-align: middle;\n",
       "    }\n",
       "\n",
       "    .dataframe tbody tr th {\n",
       "        vertical-align: top;\n",
       "    }\n",
       "\n",
       "    .dataframe thead th {\n",
       "        text-align: right;\n",
       "    }\n",
       "</style>\n",
       "<table border=\"1\" class=\"dataframe\">\n",
       "  <thead>\n",
       "    <tr style=\"text-align: right;\">\n",
       "      <th></th>\n",
       "      <th>N</th>\n",
       "      <th>P</th>\n",
       "      <th>K</th>\n",
       "      <th>temperature</th>\n",
       "      <th>humidity</th>\n",
       "      <th>ph</th>\n",
       "      <th>rainfall</th>\n",
       "    </tr>\n",
       "  </thead>\n",
       "  <tbody>\n",
       "    <tr>\n",
       "      <th>count</th>\n",
       "      <td>2200.000000</td>\n",
       "      <td>2200.000000</td>\n",
       "      <td>2200.000000</td>\n",
       "      <td>2200.000000</td>\n",
       "      <td>2200.000000</td>\n",
       "      <td>2200.000000</td>\n",
       "      <td>2200.000000</td>\n",
       "    </tr>\n",
       "    <tr>\n",
       "      <th>mean</th>\n",
       "      <td>50.537727</td>\n",
       "      <td>53.241818</td>\n",
       "      <td>48.205455</td>\n",
       "      <td>25.616244</td>\n",
       "      <td>71.481779</td>\n",
       "      <td>6.469480</td>\n",
       "      <td>103.463655</td>\n",
       "    </tr>\n",
       "    <tr>\n",
       "      <th>std</th>\n",
       "      <td>38.074046</td>\n",
       "      <td>32.926913</td>\n",
       "      <td>50.546433</td>\n",
       "      <td>5.063749</td>\n",
       "      <td>22.263812</td>\n",
       "      <td>0.773938</td>\n",
       "      <td>54.958389</td>\n",
       "    </tr>\n",
       "    <tr>\n",
       "      <th>min</th>\n",
       "      <td>0.000000</td>\n",
       "      <td>5.000000</td>\n",
       "      <td>5.000000</td>\n",
       "      <td>8.825675</td>\n",
       "      <td>14.258040</td>\n",
       "      <td>3.504752</td>\n",
       "      <td>20.211267</td>\n",
       "    </tr>\n",
       "    <tr>\n",
       "      <th>25%</th>\n",
       "      <td>20.000000</td>\n",
       "      <td>28.000000</td>\n",
       "      <td>21.000000</td>\n",
       "      <td>22.769375</td>\n",
       "      <td>60.261953</td>\n",
       "      <td>5.971693</td>\n",
       "      <td>64.551686</td>\n",
       "    </tr>\n",
       "    <tr>\n",
       "      <th>50%</th>\n",
       "      <td>36.000000</td>\n",
       "      <td>51.000000</td>\n",
       "      <td>32.000000</td>\n",
       "      <td>25.598693</td>\n",
       "      <td>80.473146</td>\n",
       "      <td>6.425045</td>\n",
       "      <td>94.867624</td>\n",
       "    </tr>\n",
       "    <tr>\n",
       "      <th>75%</th>\n",
       "      <td>86.250000</td>\n",
       "      <td>69.000000</td>\n",
       "      <td>49.000000</td>\n",
       "      <td>28.561654</td>\n",
       "      <td>89.948771</td>\n",
       "      <td>6.923643</td>\n",
       "      <td>124.267508</td>\n",
       "    </tr>\n",
       "    <tr>\n",
       "      <th>max</th>\n",
       "      <td>140.000000</td>\n",
       "      <td>145.000000</td>\n",
       "      <td>205.000000</td>\n",
       "      <td>43.675493</td>\n",
       "      <td>99.981876</td>\n",
       "      <td>9.935091</td>\n",
       "      <td>298.560117</td>\n",
       "    </tr>\n",
       "  </tbody>\n",
       "</table>\n",
       "</div>"
      ],
      "text/plain": [
       "                 N            P            K  temperature     humidity  \\\n",
       "count  2200.000000  2200.000000  2200.000000  2200.000000  2200.000000   \n",
       "mean     50.537727    53.241818    48.205455    25.616244    71.481779   \n",
       "std      38.074046    32.926913    50.546433     5.063749    22.263812   \n",
       "min       0.000000     5.000000     5.000000     8.825675    14.258040   \n",
       "25%      20.000000    28.000000    21.000000    22.769375    60.261953   \n",
       "50%      36.000000    51.000000    32.000000    25.598693    80.473146   \n",
       "75%      86.250000    69.000000    49.000000    28.561654    89.948771   \n",
       "max     140.000000   145.000000   205.000000    43.675493    99.981876   \n",
       "\n",
       "                ph     rainfall  \n",
       "count  2200.000000  2200.000000  \n",
       "mean      6.469480   103.463655  \n",
       "std       0.773938    54.958389  \n",
       "min       3.504752    20.211267  \n",
       "25%       5.971693    64.551686  \n",
       "50%       6.425045    94.867624  \n",
       "75%       6.923643   124.267508  \n",
       "max       9.935091   298.560117  "
      ]
     },
     "execution_count": 7,
     "metadata": {},
     "output_type": "execute_result"
    }
   ],
   "source": [
    "df.describe()"
   ]
  },
  {
   "cell_type": "code",
   "execution_count": 8,
   "id": "0584c2bb",
   "metadata": {},
   "outputs": [
    {
     "data": {
      "text/plain": [
       "array(['rice', 'maize', 'chickpea', 'kidneybeans', 'pigeonpeas',\n",
       "       'mothbeans', 'mungbean', 'blackgram', 'lentil', 'pomegranate',\n",
       "       'banana', 'mango', 'grapes', 'watermelon', 'muskmelon', 'apple',\n",
       "       'orange', 'papaya', 'coconut', 'cotton', 'jute', 'coffee'],\n",
       "      dtype=object)"
      ]
     },
     "execution_count": 8,
     "metadata": {},
     "output_type": "execute_result"
    }
   ],
   "source": [
    "df['label'].unique()"
   ]
  },
  {
   "cell_type": "code",
   "execution_count": 9,
   "id": "4b289940",
   "metadata": {},
   "outputs": [
    {
     "data": {
      "text/plain": [
       "Index(['N', 'P', 'K', 'temperature', 'humidity', 'ph', 'rainfall', 'label'], dtype='object')"
      ]
     },
     "execution_count": 9,
     "metadata": {},
     "output_type": "execute_result"
    }
   ],
   "source": [
    "df.columns"
   ]
  },
  {
   "cell_type": "code",
   "execution_count": 10,
   "id": "4fe14286",
   "metadata": {},
   "outputs": [
    {
     "data": {
      "text/plain": [
       "mothbeans      100\n",
       "cotton         100\n",
       "maize          100\n",
       "coconut        100\n",
       "lentil         100\n",
       "coffee         100\n",
       "apple          100\n",
       "pomegranate    100\n",
       "mango          100\n",
       "muskmelon      100\n",
       "papaya         100\n",
       "grapes         100\n",
       "jute           100\n",
       "pigeonpeas     100\n",
       "banana         100\n",
       "rice           100\n",
       "watermelon     100\n",
       "kidneybeans    100\n",
       "blackgram      100\n",
       "orange         100\n",
       "chickpea       100\n",
       "mungbean       100\n",
       "Name: label, dtype: int64"
      ]
     },
     "execution_count": 10,
     "metadata": {},
     "output_type": "execute_result"
    }
   ],
   "source": [
    "df['label'].value_counts()"
   ]
  },
  {
   "cell_type": "code",
   "execution_count": 11,
   "id": "e9334828",
   "metadata": {},
   "outputs": [
    {
     "data": {
      "text/plain": [
       "N                int64\n",
       "P                int64\n",
       "K                int64\n",
       "temperature    float64\n",
       "humidity       float64\n",
       "ph             float64\n",
       "rainfall       float64\n",
       "label           object\n",
       "dtype: object"
      ]
     },
     "execution_count": 11,
     "metadata": {},
     "output_type": "execute_result"
    }
   ],
   "source": [
    "df.dtypes"
   ]
  },
  {
   "cell_type": "code",
   "execution_count": 12,
   "id": "3bbb17ea",
   "metadata": {},
   "outputs": [
    {
     "data": {
      "text/html": [
       "<div>\n",
       "<style scoped>\n",
       "    .dataframe tbody tr th:only-of-type {\n",
       "        vertical-align: middle;\n",
       "    }\n",
       "\n",
       "    .dataframe tbody tr th {\n",
       "        vertical-align: top;\n",
       "    }\n",
       "\n",
       "    .dataframe thead th {\n",
       "        text-align: right;\n",
       "    }\n",
       "</style>\n",
       "<table border=\"1\" class=\"dataframe\">\n",
       "  <thead>\n",
       "    <tr style=\"text-align: right;\">\n",
       "      <th></th>\n",
       "      <th>N</th>\n",
       "      <th>P</th>\n",
       "      <th>K</th>\n",
       "      <th>temperature</th>\n",
       "      <th>humidity</th>\n",
       "      <th>ph</th>\n",
       "      <th>rainfall</th>\n",
       "    </tr>\n",
       "  </thead>\n",
       "  <tbody>\n",
       "    <tr>\n",
       "      <th>N</th>\n",
       "      <td>1.000000</td>\n",
       "      <td>-0.237907</td>\n",
       "      <td>-0.157117</td>\n",
       "      <td>0.016788</td>\n",
       "      <td>0.185092</td>\n",
       "      <td>0.103144</td>\n",
       "      <td>0.061036</td>\n",
       "    </tr>\n",
       "    <tr>\n",
       "      <th>P</th>\n",
       "      <td>-0.237907</td>\n",
       "      <td>1.000000</td>\n",
       "      <td>0.736500</td>\n",
       "      <td>-0.130471</td>\n",
       "      <td>-0.125085</td>\n",
       "      <td>-0.142017</td>\n",
       "      <td>-0.055964</td>\n",
       "    </tr>\n",
       "    <tr>\n",
       "      <th>K</th>\n",
       "      <td>-0.157117</td>\n",
       "      <td>0.736500</td>\n",
       "      <td>1.000000</td>\n",
       "      <td>-0.159065</td>\n",
       "      <td>0.191551</td>\n",
       "      <td>-0.170182</td>\n",
       "      <td>-0.054407</td>\n",
       "    </tr>\n",
       "    <tr>\n",
       "      <th>temperature</th>\n",
       "      <td>0.016788</td>\n",
       "      <td>-0.130471</td>\n",
       "      <td>-0.159065</td>\n",
       "      <td>1.000000</td>\n",
       "      <td>0.205320</td>\n",
       "      <td>-0.017795</td>\n",
       "      <td>-0.030084</td>\n",
       "    </tr>\n",
       "    <tr>\n",
       "      <th>humidity</th>\n",
       "      <td>0.185092</td>\n",
       "      <td>-0.125085</td>\n",
       "      <td>0.191551</td>\n",
       "      <td>0.205320</td>\n",
       "      <td>1.000000</td>\n",
       "      <td>-0.008483</td>\n",
       "      <td>0.094423</td>\n",
       "    </tr>\n",
       "    <tr>\n",
       "      <th>ph</th>\n",
       "      <td>0.103144</td>\n",
       "      <td>-0.142017</td>\n",
       "      <td>-0.170182</td>\n",
       "      <td>-0.017795</td>\n",
       "      <td>-0.008483</td>\n",
       "      <td>1.000000</td>\n",
       "      <td>-0.109069</td>\n",
       "    </tr>\n",
       "    <tr>\n",
       "      <th>rainfall</th>\n",
       "      <td>0.061036</td>\n",
       "      <td>-0.055964</td>\n",
       "      <td>-0.054407</td>\n",
       "      <td>-0.030084</td>\n",
       "      <td>0.094423</td>\n",
       "      <td>-0.109069</td>\n",
       "      <td>1.000000</td>\n",
       "    </tr>\n",
       "  </tbody>\n",
       "</table>\n",
       "</div>"
      ],
      "text/plain": [
       "                    N         P         K  temperature  humidity        ph  \\\n",
       "N            1.000000 -0.237907 -0.157117     0.016788  0.185092  0.103144   \n",
       "P           -0.237907  1.000000  0.736500    -0.130471 -0.125085 -0.142017   \n",
       "K           -0.157117  0.736500  1.000000    -0.159065  0.191551 -0.170182   \n",
       "temperature  0.016788 -0.130471 -0.159065     1.000000  0.205320 -0.017795   \n",
       "humidity     0.185092 -0.125085  0.191551     0.205320  1.000000 -0.008483   \n",
       "ph           0.103144 -0.142017 -0.170182    -0.017795 -0.008483  1.000000   \n",
       "rainfall     0.061036 -0.055964 -0.054407    -0.030084  0.094423 -0.109069   \n",
       "\n",
       "             rainfall  \n",
       "N            0.061036  \n",
       "P           -0.055964  \n",
       "K           -0.054407  \n",
       "temperature -0.030084  \n",
       "humidity     0.094423  \n",
       "ph          -0.109069  \n",
       "rainfall     1.000000  "
      ]
     },
     "execution_count": 12,
     "metadata": {},
     "output_type": "execute_result"
    }
   ],
   "source": [
    "s=df.corr()\n",
    "s"
   ]
  },
  {
   "cell_type": "code",
   "execution_count": 13,
   "id": "67912200",
   "metadata": {},
   "outputs": [
    {
     "data": {
      "text/plain": [
       "<AxesSubplot:>"
      ]
     },
     "execution_count": 13,
     "metadata": {},
     "output_type": "execute_result"
    },
    {
     "data": {
      "image/png": "[encoded data removed]",
      "text/plain": [
       "<Figure size 432x288 with 2 Axes>"
      ]
     },
     "metadata": {
      "needs_background": "light"
     },
     "output_type": "display_data"
    }
   ],
   "source": [
    "sns.heatmap(s,annot=True)"
   ]
  },
  {
   "cell_type": "code",
   "execution_count": 14,
   "id": "c78cd673",
   "metadata": {},
   "outputs": [],
   "source": [
    "features=df[['N','P','K','temperature','humidity','ph','rainfall']]\n",
    "target=df['label']"
   ]
  },
  {
   "cell_type": "code",
   "execution_count": 15,
   "id": "0ab7de72",
   "metadata": {},
   "outputs": [],
   "source": [
    "acc=[]\n",
    "model=[]"
   ]
  },
  {
   "cell_type": "code",
   "execution_count": 16,
   "id": "cabb5974",
   "metadata": {},
   "outputs": [],
   "source": [
    "from sklearn.model_selection import train_test_split\n",
    "X_train,X_test,y_train,y_test=train_test_split(features,target,test_size=0.2,random_state=2)"
   ]
  },
  {
   "cell_type": "markdown",
   "id": "e5c9e88b",
   "metadata": {},
   "source": [
    "#  Decision Tree"
   ]
  },
  {
   "cell_type": "code",
   "execution_count": 17,
   "id": "1c05b3df",
   "metadata": {},
   "outputs": [],
   "source": [
    "from sklearn.tree import DecisionTreeClassifier"
   ]
  },
  {
   "cell_type": "code",
   "execution_count": 18,
   "id": "74ddef66",
   "metadata": {},
   "outputs": [
    {
     "name": "stdout",
     "output_type": "stream",
     "text": [
      "Accuracy[Decision Tree]: 90.22727272727272\n"
     ]
    }
   ],
   "source": [
    "DecisionTree=DecisionTreeClassifier(criterion='entropy',max_depth=5,random_state=2)\n",
    "DecisionTree.fit(X_train,y_train)\n",
    "predicted=DecisionTree.predict(X_test)\n",
    "x=metrics.accuracy_score(y_test,predicted)\n",
    "acc.append(x)\n",
    "model.append('Decision Tree')\n",
    "print(\"Accuracy[Decision Tree]:\",x*100)"
   ]
  },
  {
   "cell_type": "code",
   "execution_count": 19,
   "id": "b40f031f",
   "metadata": {},
   "outputs": [
    {
     "name": "stdout",
     "output_type": "stream",
     "text": [
      "              precision    recall  f1-score   support\n",
      "\n",
      "       apple       1.00      1.00      1.00        13\n",
      "      banana       1.00      0.88      0.94        17\n",
      "   blackgram       0.64      1.00      0.78        16\n",
      "    chickpea       1.00      1.00      1.00        21\n",
      "     coconut       1.00      1.00      1.00        21\n",
      "      coffee       1.00      0.91      0.95        22\n",
      "      cotton       1.00      1.00      1.00        20\n",
      "      grapes       1.00      1.00      1.00        18\n",
      "        jute       1.00      0.21      0.35        28\n",
      " kidneybeans       1.00      0.79      0.88        14\n",
      "      lentil       1.00      0.96      0.98        23\n",
      "       maize       0.80      0.95      0.87        21\n",
      "       mango       1.00      0.85      0.92        26\n",
      "   mothbeans       0.92      0.58      0.71        19\n",
      "    mungbean       1.00      1.00      1.00        24\n",
      "   muskmelon       1.00      1.00      1.00        23\n",
      "      orange       1.00      1.00      1.00        29\n",
      "      papaya       1.00      1.00      1.00        19\n",
      "  pigeonpeas       0.82      1.00      0.90        18\n",
      " pomegranate       1.00      1.00      1.00        17\n",
      "        rice       0.40      1.00      0.57        16\n",
      "  watermelon       1.00      1.00      1.00        15\n",
      "\n",
      "    accuracy                           0.90       440\n",
      "   macro avg       0.94      0.91      0.90       440\n",
      "weighted avg       0.94      0.90      0.90       440\n",
      "\n"
     ]
    }
   ],
   "source": [
    "print(classification_report(y_test,predicted))"
   ]
  },
  {
   "cell_type": "code",
   "execution_count": 20,
   "id": "91035f62",
   "metadata": {},
   "outputs": [],
   "source": [
    "from sklearn.model_selection import cross_val_score"
   ]
  },
  {
   "cell_type": "code",
   "execution_count": 21,
   "id": "c7b3ce42",
   "metadata": {},
   "outputs": [
    {
     "data": {
      "text/plain": [
       "array([0.93409091, 0.89772727, 0.91818182, 0.92727273, 0.93181818])"
      ]
     },
     "execution_count": 21,
     "metadata": {},
     "output_type": "execute_result"
    }
   ],
   "source": [
    "score=cross_val_score(DecisionTree,features,target,cv=5)\n",
    "score"
   ]
  },
  {
   "cell_type": "markdown",
   "id": "d81ef7e4",
   "metadata": {},
   "source": [
    "# Naive Bayes "
   ]
  },
  {
   "cell_type": "code",
   "execution_count": 22,
   "id": "2b8b653e",
   "metadata": {},
   "outputs": [],
   "source": [
    "from sklearn.naive_bayes import GaussianNB"
   ]
  },
  {
   "cell_type": "code",
   "execution_count": 23,
   "id": "d6c2a0dd",
   "metadata": {},
   "outputs": [
    {
     "name": "stdout",
     "output_type": "stream",
     "text": [
      "Accuracy[Naive Bayes]: 99.0909090909091\n"
     ]
    }
   ],
   "source": [
    "Naive_Bayes=GaussianNB()\n",
    "Naive_Bayes.fit(X_train,y_train)\n",
    "predicted=Naive_Bayes.predict(X_test)\n",
    "x=metrics.accuracy_score(y_test,predicted)\n",
    "acc.append(x)\n",
    "model.append('Naive Bayes')\n",
    "print(\"Accuracy[Naive Bayes]:\",x*100)"
   ]
  },
  {
   "cell_type": "code",
   "execution_count": 24,
   "id": "a47fbc84",
   "metadata": {},
   "outputs": [
    {
     "name": "stdout",
     "output_type": "stream",
     "text": [
      "              precision    recall  f1-score   support\n",
      "\n",
      "       apple       1.00      1.00      1.00        13\n",
      "      banana       1.00      1.00      1.00        17\n",
      "   blackgram       1.00      1.00      1.00        16\n",
      "    chickpea       1.00      1.00      1.00        21\n",
      "     coconut       1.00      1.00      1.00        21\n",
      "      coffee       1.00      1.00      1.00        22\n",
      "      cotton       1.00      1.00      1.00        20\n",
      "      grapes       1.00      1.00      1.00        18\n",
      "        jute       0.88      1.00      0.93        28\n",
      " kidneybeans       1.00      1.00      1.00        14\n",
      "      lentil       1.00      1.00      1.00        23\n",
      "       maize       1.00      1.00      1.00        21\n",
      "       mango       1.00      1.00      1.00        26\n",
      "   mothbeans       1.00      1.00      1.00        19\n",
      "    mungbean       1.00      1.00      1.00        24\n",
      "   muskmelon       1.00      1.00      1.00        23\n",
      "      orange       1.00      1.00      1.00        29\n",
      "      papaya       1.00      1.00      1.00        19\n",
      "  pigeonpeas       1.00      1.00      1.00        18\n",
      " pomegranate       1.00      1.00      1.00        17\n",
      "        rice       1.00      0.75      0.86        16\n",
      "  watermelon       1.00      1.00      1.00        15\n",
      "\n",
      "    accuracy                           0.99       440\n",
      "   macro avg       0.99      0.99      0.99       440\n",
      "weighted avg       0.99      0.99      0.99       440\n",
      "\n"
     ]
    }
   ],
   "source": [
    "print(classification_report(y_test,predicted))"
   ]
  },
  {
   "cell_type": "code",
   "execution_count": 25,
   "id": "6ace4103",
   "metadata": {},
   "outputs": [
    {
     "data": {
      "text/plain": [
       "array([0.99772727, 0.99772727, 0.99318182, 0.99545455, 0.99090909])"
      ]
     },
     "execution_count": 25,
     "metadata": {},
     "output_type": "execute_result"
    }
   ],
   "source": [
    "score=cross_val_score(Naive_Bayes,features,target,cv=5)\n",
    "score"
   ]
  },
  {
   "cell_type": "markdown",
   "id": "4e7469d1",
   "metadata": {},
   "source": [
    "#  Logistic Regression"
   ]
  },
  {
   "cell_type": "code",
   "execution_count": 26,
   "id": "1f3426c0",
   "metadata": {},
   "outputs": [],
   "source": [
    "from sklearn.linear_model import LogisticRegression"
   ]
  },
  {
   "cell_type": "code",
   "execution_count": 27,
   "id": "354fbe35",
   "metadata": {},
   "outputs": [
    {
     "name": "stdout",
     "output_type": "stream",
     "text": [
      "Accuracy[Logistic Regression]: 96.36363636363636\n"
     ]
    }
   ],
   "source": [
    "logreg=LogisticRegression()\n",
    "logreg.fit(X_train,y_train)\n",
    "predicted=logreg.predict(X_test)\n",
    "x=metrics.accuracy_score(y_test,predicted)\n",
    "acc.append(x)\n",
    "model.append('Logistic Regression')\n",
    "print(\"Accuracy[Logistic Regression]:\",x*100)"
   ]
  },
  {
   "cell_type": "code",
   "execution_count": 28,
   "id": "eabab871",
   "metadata": {},
   "outputs": [
    {
     "name": "stdout",
     "output_type": "stream",
     "text": [
      "              precision    recall  f1-score   support\n",
      "\n",
      "       apple       1.00      1.00      1.00        13\n",
      "      banana       1.00      1.00      1.00        17\n",
      "   blackgram       0.78      0.88      0.82        16\n",
      "    chickpea       1.00      1.00      1.00        21\n",
      "     coconut       1.00      1.00      1.00        21\n",
      "      coffee       1.00      0.95      0.98        22\n",
      "      cotton       1.00      0.95      0.97        20\n",
      "      grapes       1.00      1.00      1.00        18\n",
      "        jute       0.83      0.86      0.84        28\n",
      " kidneybeans       1.00      1.00      1.00        14\n",
      "      lentil       1.00      0.91      0.95        23\n",
      "       maize       0.91      0.95      0.93        21\n",
      "       mango       1.00      1.00      1.00        26\n",
      "   mothbeans       0.95      0.95      0.95        19\n",
      "    mungbean       1.00      1.00      1.00        24\n",
      "   muskmelon       1.00      1.00      1.00        23\n",
      "      orange       1.00      1.00      1.00        29\n",
      "      papaya       0.95      0.95      0.95        19\n",
      "  pigeonpeas       1.00      1.00      1.00        18\n",
      " pomegranate       1.00      1.00      1.00        17\n",
      "        rice       0.81      0.81      0.81        16\n",
      "  watermelon       1.00      1.00      1.00        15\n",
      "\n",
      "    accuracy                           0.96       440\n",
      "   macro avg       0.96      0.96      0.96       440\n",
      "weighted avg       0.97      0.96      0.96       440\n",
      "\n"
     ]
    }
   ],
   "source": [
    "print(classification_report(y_test,predicted))"
   ]
  },
  {
   "cell_type": "code",
   "execution_count": 29,
   "id": "3bf3a765",
   "metadata": {},
   "outputs": [
    {
     "data": {
      "text/plain": [
       "array([0.96136364, 0.975     , 0.96136364, 0.95681818, 0.95454545])"
      ]
     },
     "execution_count": 29,
     "metadata": {},
     "output_type": "execute_result"
    }
   ],
   "source": [
    "score=cross_val_score(logreg,features,target,cv=5)\n",
    "score"
   ]
  },
  {
   "cell_type": "markdown",
   "id": "ada2b42a",
   "metadata": {},
   "source": [
    "#  Support Vector Machine"
   ]
  },
  {
   "cell_type": "code",
   "execution_count": 30,
   "id": "183ca7e4",
   "metadata": {},
   "outputs": [],
   "source": [
    "from sklearn.svm import SVC"
   ]
  },
  {
   "cell_type": "code",
   "execution_count": 31,
   "id": "3ff46217",
   "metadata": {},
   "outputs": [
    {
     "name": "stdout",
     "output_type": "stream",
     "text": [
      "Accuracy[SVM]: 14.772727272727273\n"
     ]
    }
   ],
   "source": [
    "SVM=SVC(gamma='auto')\n",
    "SVM.fit(X_train,y_train)\n",
    "predicted=SVM.predict(X_test)\n",
    "x=metrics.accuracy_score(y_test,predicted)\n",
    "acc.append(x)\n",
    "model.append('SVM')\n",
    "print('Accuracy[SVM]:',x*100)"
   ]
  },
  {
   "cell_type": "code",
   "execution_count": 32,
   "id": "2860568a",
   "metadata": {},
   "outputs": [
    {
     "name": "stdout",
     "output_type": "stream",
     "text": [
      "              precision    recall  f1-score   support\n",
      "\n",
      "       apple       1.00      0.54      0.70        13\n",
      "      banana       1.00      0.24      0.38        17\n",
      "   blackgram       1.00      0.38      0.55        16\n",
      "    chickpea       1.00      0.19      0.32        21\n",
      "     coconut       0.00      0.00      0.00        21\n",
      "      coffee       0.00      0.00      0.00        22\n",
      "      cotton       1.00      0.10      0.18        20\n",
      "      grapes       1.00      0.06      0.11        18\n",
      "        jute       0.00      0.00      0.00        28\n",
      " kidneybeans       0.04      1.00      0.07        14\n",
      "      lentil       0.00      0.00      0.00        23\n",
      "       maize       0.00      0.00      0.00        21\n",
      "       mango       0.00      0.00      0.00        26\n",
      "   mothbeans       0.00      0.00      0.00        19\n",
      "    mungbean       1.00      0.12      0.22        24\n",
      "   muskmelon       1.00      0.35      0.52        23\n",
      "      orange       1.00      0.03      0.07        29\n",
      "      papaya       0.00      0.00      0.00        19\n",
      "  pigeonpeas       0.00      0.00      0.00        18\n",
      " pomegranate       1.00      0.41      0.58        17\n",
      "        rice       1.00      0.12      0.22        16\n",
      "  watermelon       1.00      0.40      0.57        15\n",
      "\n",
      "    accuracy                           0.15       440\n",
      "   macro avg       0.55      0.18      0.20       440\n",
      "weighted avg       0.52      0.15      0.18       440\n",
      "\n"
     ]
    }
   ],
   "source": [
    "print(classification_report(y_test,predicted))"
   ]
  },
  {
   "cell_type": "code",
   "execution_count": 33,
   "id": "c34c9ac8",
   "metadata": {},
   "outputs": [
    {
     "data": {
      "text/plain": [
       "array([0.26136364, 0.24772727, 0.28409091, 0.26590909, 0.24545455])"
      ]
     },
     "execution_count": 33,
     "metadata": {},
     "output_type": "execute_result"
    }
   ],
   "source": [
    "score=cross_val_score(SVM,features,target,cv=5)\n",
    "score"
   ]
  },
  {
   "cell_type": "markdown",
   "id": "8011698a",
   "metadata": {},
   "source": [
    "#  Random Forest"
   ]
  },
  {
   "cell_type": "code",
   "execution_count": 34,
   "id": "dcf95b29",
   "metadata": {},
   "outputs": [],
   "source": [
    "from sklearn.ensemble import RandomForestClassifier"
   ]
  },
  {
   "cell_type": "code",
   "execution_count": 35,
   "id": "ef0e372c",
   "metadata": {},
   "outputs": [
    {
     "name": "stdout",
     "output_type": "stream",
     "text": [
      "Accuracy[Random Forest]: 99.0909090909091\n"
     ]
    }
   ],
   "source": [
    "RF=RandomForestClassifier(n_estimators=29,criterion='entropy',random_state=0)\n",
    "RF.fit(X_train,y_train)\n",
    "predicted=RF.predict(X_test)\n",
    "x=metrics.accuracy_score(y_test,predicted)\n",
    "acc.append(x)\n",
    "model.append(\"Random Forest\")\n",
    "print(\"Accuracy[Random Forest]:\",x*100)"
   ]
  },
  {
   "cell_type": "code",
   "execution_count": 36,
   "id": "41d3f572",
   "metadata": {},
   "outputs": [
    {
     "name": "stdout",
     "output_type": "stream",
     "text": [
      "              precision    recall  f1-score   support\n",
      "\n",
      "       apple       1.00      1.00      1.00        13\n",
      "      banana       1.00      1.00      1.00        17\n",
      "   blackgram       1.00      1.00      1.00        16\n",
      "    chickpea       1.00      1.00      1.00        21\n",
      "     coconut       1.00      1.00      1.00        21\n",
      "      coffee       1.00      1.00      1.00        22\n",
      "      cotton       1.00      1.00      1.00        20\n",
      "      grapes       1.00      1.00      1.00        18\n",
      "        jute       0.90      0.96      0.93        28\n",
      " kidneybeans       1.00      1.00      1.00        14\n",
      "      lentil       1.00      1.00      1.00        23\n",
      "       maize       1.00      1.00      1.00        21\n",
      "       mango       1.00      1.00      1.00        26\n",
      "   mothbeans       1.00      1.00      1.00        19\n",
      "    mungbean       1.00      1.00      1.00        24\n",
      "   muskmelon       1.00      1.00      1.00        23\n",
      "      orange       1.00      1.00      1.00        29\n",
      "      papaya       1.00      1.00      1.00        19\n",
      "  pigeonpeas       1.00      1.00      1.00        18\n",
      " pomegranate       1.00      1.00      1.00        17\n",
      "        rice       0.93      0.81      0.87        16\n",
      "  watermelon       1.00      1.00      1.00        15\n",
      "\n",
      "    accuracy                           0.99       440\n",
      "   macro avg       0.99      0.99      0.99       440\n",
      "weighted avg       0.99      0.99      0.99       440\n",
      "\n"
     ]
    }
   ],
   "source": [
    "print(classification_report(y_test,predicted))"
   ]
  },
  {
   "cell_type": "code",
   "execution_count": 37,
   "id": "5530aa1d",
   "metadata": {},
   "outputs": [
    {
     "data": {
      "text/plain": [
       "array([0.99318182, 0.99318182, 0.99545455, 0.99545455, 0.98863636])"
      ]
     },
     "execution_count": 37,
     "metadata": {},
     "output_type": "execute_result"
    }
   ],
   "source": [
    "score=cross_val_score(RF,features,target,cv=5)\n",
    "score"
   ]
  },
  {
   "cell_type": "markdown",
   "id": "5f173b2e",
   "metadata": {},
   "source": [
    "# XG Boost "
   ]
  },
  {
   "cell_type": "code",
   "execution_count": 38,
   "id": "7d2a5606",
   "metadata": {},
   "outputs": [],
   "source": [
    "import xgboost as xgb"
   ]
  },
  {
   "cell_type": "code",
   "execution_count": 39,
   "id": "146a48bc",
   "metadata": {},
   "outputs": [
    {
     "name": "stdout",
     "output_type": "stream",
     "text": [
      "Accuracy[XG Boost]: 99.0909090909091\n"
     ]
    }
   ],
   "source": [
    "xb=xgb.XGBClassifier(eval_metric='mlogloss')\n",
    "xb.fit(X_train,y_train)\n",
    "predicted=xb.predict(X_test)\n",
    "x=metrics.accuracy_score(y_test,predicted)\n",
    "acc.append(x)\n",
    "model.append('XG Boost')\n",
    "print('Accuracy[XG Boost]:',x*100)"
   ]
  },
  {
   "cell_type": "code",
   "execution_count": 40,
   "id": "0f6e473c",
   "metadata": {},
   "outputs": [
    {
     "name": "stdout",
     "output_type": "stream",
     "text": [
      "              precision    recall  f1-score   support\n",
      "\n",
      "       apple       1.00      1.00      1.00        13\n",
      "      banana       1.00      1.00      1.00        17\n",
      "   blackgram       1.00      1.00      1.00        16\n",
      "    chickpea       1.00      1.00      1.00        21\n",
      "     coconut       1.00      1.00      1.00        21\n",
      "      coffee       1.00      1.00      1.00        22\n",
      "      cotton       1.00      1.00      1.00        20\n",
      "      grapes       1.00      1.00      1.00        18\n",
      "        jute       0.96      0.93      0.95        28\n",
      " kidneybeans       1.00      1.00      1.00        14\n",
      "      lentil       1.00      0.96      0.98        23\n",
      "       maize       1.00      1.00      1.00        21\n",
      "       mango       1.00      1.00      1.00        26\n",
      "   mothbeans       0.95      1.00      0.97        19\n",
      "    mungbean       1.00      1.00      1.00        24\n",
      "   muskmelon       1.00      1.00      1.00        23\n",
      "      orange       1.00      1.00      1.00        29\n",
      "      papaya       1.00      1.00      1.00        19\n",
      "  pigeonpeas       1.00      1.00      1.00        18\n",
      " pomegranate       0.94      1.00      0.97        17\n",
      "        rice       0.94      0.94      0.94        16\n",
      "  watermelon       1.00      1.00      1.00        15\n",
      "\n",
      "    accuracy                           0.99       440\n",
      "   macro avg       0.99      0.99      0.99       440\n",
      "weighted avg       0.99      0.99      0.99       440\n",
      "\n"
     ]
    }
   ],
   "source": [
    "print(classification_report(y_test,predicted))"
   ]
  },
  {
   "cell_type": "code",
   "execution_count": 41,
   "id": "862d5448",
   "metadata": {},
   "outputs": [
    {
     "data": {
      "text/plain": [
       "array([0.98409091, 0.99318182, 0.99545455, 0.98863636, 0.98636364])"
      ]
     },
     "execution_count": 41,
     "metadata": {},
     "output_type": "execute_result"
    }
   ],
   "source": [
    "score=cross_val_score(xb,features,target,cv=5)\n",
    "score"
   ]
  },
  {
   "cell_type": "markdown",
   "id": "1a35e570",
   "metadata": {},
   "source": [
    "#  Accuracy Comparison"
   ]
  },
  {
   "cell_type": "code",
   "execution_count": 42,
   "id": "c5297730",
   "metadata": {},
   "outputs": [
    {
     "data": {
      "text/plain": [
       "<AxesSubplot:title={'center':'Accuracy Comparison'}, xlabel='Accuracy', ylabel='Algorithms'>"
      ]
     },
     "execution_count": 42,
     "metadata": {},
     "output_type": "execute_result"
    },
    {
     "data": {
      "image/png": "[encoded data removed]",
      "text/plain": [
       "<Figure size 1200x800 with 1 Axes>"
      ]
     },
     "metadata": {
      "needs_background": "light"
     },
     "output_type": "display_data"
    }
   ],
   "source": [
    "plt.figure(figsize=[12,8],dpi=100)\n",
    "plt.title('Accuracy Comparison')\n",
    "plt.xlabel('Accuracy')\n",
    "plt.ylabel('Algorithms')\n",
    "sns.barplot(x=acc,y=model,palette='dark')"
   ]
  },
  {
   "cell_type": "code",
   "execution_count": 43,
   "id": "23a747f4",
   "metadata": {},
   "outputs": [
    {
     "data": {
      "text/html": [
       "<div>\n",
       "<style scoped>\n",
       "    .dataframe tbody tr th:only-of-type {\n",
       "        vertical-align: middle;\n",
       "    }\n",
       "\n",
       "    .dataframe tbody tr th {\n",
       "        vertical-align: top;\n",
       "    }\n",
       "\n",
       "    .dataframe thead th {\n",
       "        text-align: right;\n",
       "    }\n",
       "</style>\n",
       "<table border=\"1\" class=\"dataframe\">\n",
       "  <thead>\n",
       "    <tr style=\"text-align: right;\">\n",
       "      <th></th>\n",
       "      <th>Algorithms</th>\n",
       "      <th>Accuracy</th>\n",
       "    </tr>\n",
       "  </thead>\n",
       "  <tbody>\n",
       "    <tr>\n",
       "      <th>0</th>\n",
       "      <td>Decision Tree</td>\n",
       "      <td>0.902273</td>\n",
       "    </tr>\n",
       "    <tr>\n",
       "      <th>1</th>\n",
       "      <td>Naive Bayes</td>\n",
       "      <td>0.990909</td>\n",
       "    </tr>\n",
       "    <tr>\n",
       "      <th>2</th>\n",
       "      <td>Logistic Regression</td>\n",
       "      <td>0.963636</td>\n",
       "    </tr>\n",
       "    <tr>\n",
       "      <th>3</th>\n",
       "      <td>SVM</td>\n",
       "      <td>0.147727</td>\n",
       "    </tr>\n",
       "    <tr>\n",
       "      <th>4</th>\n",
       "      <td>Random Forest</td>\n",
       "      <td>0.990909</td>\n",
       "    </tr>\n",
       "    <tr>\n",
       "      <th>5</th>\n",
       "      <td>XG Boost</td>\n",
       "      <td>0.990909</td>\n",
       "    </tr>\n",
       "  </tbody>\n",
       "</table>\n",
       "</div>"
      ],
      "text/plain": [
       "            Algorithms  Accuracy\n",
       "0        Decision Tree  0.902273\n",
       "1          Naive Bayes  0.990909\n",
       "2  Logistic Regression  0.963636\n",
       "3                  SVM  0.147727\n",
       "4        Random Forest  0.990909\n",
       "5             XG Boost  0.990909"
      ]
     },
     "execution_count": 43,
     "metadata": {},
     "output_type": "execute_result"
    }
   ],
   "source": [
    "data={'Algorithms':model,'Accuracy':acc}\n",
    "AC=pd.DataFrame(data)\n",
    "AC"
   ]
  },
  {
   "cell_type": "markdown",
   "id": "0d04f807",
   "metadata": {},
   "source": [
    "#  Testing Own Data"
   ]
  },
  {
   "cell_type": "code",
   "execution_count": 44,
   "id": "abe5ae34",
   "metadata": {},
   "outputs": [
    {
     "name": "stdout",
     "output_type": "stream",
     "text": [
      "['coffee']\n"
     ]
    }
   ],
   "source": [
    "data=np.array([[90,42,43,23.60,60.3,6.7,140.921]])\n",
    "prediction=RF.predict(data)\n",
    "print(prediction)"
   ]
  },
  {
   "cell_type": "code",
   "execution_count": 45,
   "id": "6e4dfa06",
   "metadata": {},
   "outputs": [
    {
     "name": "stdout",
     "output_type": "stream",
     "text": [
      "['rice']\n"
     ]
    }
   ],
   "source": [
    "data=np.array([[90,42,43,20.87,82,6.50,202.9]])\n",
    "prediction=RF.predict(data)\n",
    "print(prediction)"
   ]
  },
  {
   "cell_type": "code",
   "execution_count": 46,
   "id": "11fde434",
   "metadata": {},
   "outputs": [
    {
     "name": "stdout",
     "output_type": "stream",
     "text": [
      "['coffee']\n"
     ]
    }
   ],
   "source": [
    "data=np.array([[107,34,32,26.77,66.41,6.7,177.7]])\n",
    "prediction=RF.predict(data)\n",
    "print(prediction)"
   ]
  },
  {
   "cell_type": "markdown",
   "id": "24abf15b",
   "metadata": {},
   "source": [
    "#  Saving a Random Forest Model"
   ]
  },
  {
   "cell_type": "code",
   "execution_count": 47,
   "id": "be36b94c",
   "metadata": {},
   "outputs": [],
   "source": [
    "import pickle\n",
    "file_name='Model/crop_recommender.pkl'\n",
    "pkl=open(file_name,'wb')\n",
    "pickle.dump(RF,pkl)\n",
    "pkl.close()"
   ]
  },
  {
   "cell_type": "code",
   "execution_count": null,
   "id": "e3058c15",
   "metadata": {},
   "outputs": [],
   "source": []
  }
 ],
 "metadata": {
  "kernelspec": {
   "display_name": "Python 3",
   "language": "python",
   "name": "python3"
  },
  "language_info": {
   "codemirror_mode": {
    "name": "ipython",
    "version": 3
   },
   "file_extension": ".py",
   "mimetype": "text/x-python",
   "name": "python",
   "nbconvert_exporter": "python",
   "pygments_lexer": "ipython3",
   "version": "3.8.10"
  }
 },
 "nbformat": 4,
 "nbformat_minor": 5
}
